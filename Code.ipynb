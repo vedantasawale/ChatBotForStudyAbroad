{
 "cells": [
  {
   "cell_type": "markdown",
   "metadata": {},
   "source": [
    "<h1>Import Relevant Libraries</h1>"
   ]
  },
  {
   "cell_type": "code",
   "execution_count": 23,
   "metadata": {},
   "outputs": [],
   "source": [
    "from flask import Flask, render_template, request\n",
    "from chatterbot import ChatBot\n",
    "from chatterbot.trainers import ListTrainer\n",
    "from chatterbot.response_selection import get_first_response\n",
    "from chatterbot.comparisons import levenshtein_distance\n",
    " "
   ]
  },
  {
   "cell_type": "markdown",
   "metadata": {},
   "source": [
    "<h1>Load Training Data into Lists since we will be using List Trainer for training our chatbot</h1>"
   ]
  },
  {
   "cell_type": "code",
   "execution_count": 2,
   "metadata": {},
   "outputs": [],
   "source": [
    "General=[]\n",
    "US=[]\n",
    "Canada=[]\n",
    "Australia=[]\n",
    "Newzealand=[]\n",
    "UK=[]\n",
    "Ireland=[]\n",
    "Germany=[]\n",
    "\n",
    "\n",
    "General_Data = open(\"Data/General.txt\", \"r\")\n",
    "for line in General_Data:\n",
    "    General.append(line.strip())\n",
    "    \n",
    "US_Data = open(\"Data/US.txt\", \"r\")\n",
    "for line in US_Data:\n",
    "    US.append(line.strip())\n",
    "    \n",
    "    \n",
    "Canada_Data = open(\"Data/Canada.txt\", \"r\")\n",
    "for line in Canada_Data:\n",
    "    Canada.append(line.strip())\n",
    "    \n",
    "Australia_Data = open(\"Data/Australia.txt\", \"r\")\n",
    "for line in Australia_Data:\n",
    "    Australia.append(line.strip())\n",
    "    \n",
    "Newzealand_Data = open(\"Data/Newzealand.txt\", \"r\")\n",
    "for line in Newzealand_Data:\n",
    "    Newzealand.append(line.strip())\n",
    "    \n",
    "UK_Data = open(\"Data/UK.txt\", \"r\")\n",
    "for line in UK_Data:\n",
    "    UK.append(line.strip())\n",
    "    \n",
    "Ireland_Data = open(\"Data/Ireland.txt\", \"r\")\n",
    "for line in Ireland_Data:\n",
    "    Ireland.append(line.strip()) \n",
    "    \n",
    "Germany_Data = open(\"Data/Germany.txt\", \"r\")\n",
    "for line in Germany_Data:\n",
    "    Germany.append(line.strip())         \n",
    "    \n",
    "   "
   ]
  },
  {
   "cell_type": "markdown",
   "metadata": {},
   "source": [
    "<h1>Create Instance for Flask and ChatBot and train the chatbot</h1>"
   ]
  },
  {
   "cell_type": "code",
   "execution_count": 28,
   "metadata": {},
   "outputs": [
    {
     "name": "stdout",
     "output_type": "stream",
     "text": [
      "List Trainer: [###########         ] 54%"
     ]
    },
    {
     "name": "stderr",
     "output_type": "stream",
     "text": [
      "[nltk_data] Downloading package averaged_perceptron_tagger to\n",
      "[nltk_data]     C:\\Users\\VASAWALE\\AppData\\Roaming\\nltk_data...\n",
      "[nltk_data]   Package averaged_perceptron_tagger is already up-to-\n",
      "[nltk_data]       date!\n",
      "[nltk_data] Downloading package punkt to\n",
      "[nltk_data]     C:\\Users\\VASAWALE\\AppData\\Roaming\\nltk_data...\n",
      "[nltk_data]   Package punkt is already up-to-date!\n",
      "[nltk_data] Downloading package stopwords to\n",
      "[nltk_data]     C:\\Users\\VASAWALE\\AppData\\Roaming\\nltk_data...\n",
      "[nltk_data]   Package stopwords is already up-to-date!\n"
     ]
    },
    {
     "name": "stdout",
     "output_type": "stream",
     "text": [
      "List Trainer: [####################] 100%\n",
      "List Trainer: [####################] 100%\n",
      "List Trainer: [####################] 100%\n",
      "List Trainer: [####################] 100%\n",
      "List Trainer: [####################] 100%\n",
      "List Trainer: [####################] 100%\n",
      "List Trainer: [####################] 100%\n",
      "List Trainer: [####################] 100%\n"
     ]
    }
   ],
   "source": [
    "app = Flask(__name__)\n",
    " \n",
    "Study_Abroad_Counsellor_Bot = ChatBot(\"Counsellor\", storage_adapter=\"chatterbot.storage.SQLStorageAdapter\"\n",
    "                                     )\n",
    "trainer = ListTrainer(Study_Abroad_Counsellor_Bot)\n",
    "trainer.train(General)\n",
    "trainer.train(US)\n",
    "trainer.train(Canada)\n",
    "trainer.train(Australia)\n",
    "trainer.train(Newzealand)\n",
    "trainer.train(UK)\n",
    "trainer.train(Ireland)\n",
    "trainer.train(Germany)\n",
    " "
   ]
  },
  {
   "cell_type": "markdown",
   "metadata": {},
   "source": [
    "<h1>Route Webpages using Flask and run the app</h1>"
   ]
  },
  {
   "cell_type": "code",
   "execution_count": null,
   "metadata": {},
   "outputs": [],
   "source": [
    "@app.route(\"/\")\n",
    "def home():\n",
    "    return render_template(\"index.html\")\n",
    " \n",
    "@app.route(\"/get\")\n",
    "def get_bot_response():\n",
    "    userText = request.args.get('msg')\n",
    "    return str(Study_Abroad_Counsellor_Bot.get_response(userText))\n",
    " \n",
    " \n",
    "if __name__ == \"__main__\":\n",
    "    app.run()"
   ]
  },
  {
   "cell_type": "markdown",
   "metadata": {},
   "source": [
    "<h1>Snapshot of Demo</h1>"
   ]
  },
  {
   "cell_type": "markdown",
   "metadata": {},
   "source": [
    "<img src=Demo/chat1.png>"
   ]
  },
  {
   "cell_type": "markdown",
   "metadata": {},
   "source": [
    "<h1>Snapshot of Demo</h1>"
   ]
  },
  {
   "cell_type": "markdown",
   "metadata": {},
   "source": [
    "<img src=\"Demo/chat2.png\">"
   ]
  }
 ],
 "metadata": {
  "kernelspec": {
   "display_name": "Python 3",
   "language": "python",
   "name": "python3"
  },
  "language_info": {
   "codemirror_mode": {
    "name": "ipython",
    "version": 3
   },
   "file_extension": ".py",
   "mimetype": "text/x-python",
   "name": "python",
   "nbconvert_exporter": "python",
   "pygments_lexer": "ipython3",
   "version": "3.7.9"
  }
 },
 "nbformat": 4,
 "nbformat_minor": 4
}
